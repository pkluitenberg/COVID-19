{
 "cells": [
  {
   "cell_type": "markdown",
   "metadata": {},
   "source": [
    "# COVID-19 Visualizations"
   ]
  },
  {
   "cell_type": "markdown",
   "metadata": {},
   "source": [
    "This notebook provides some basic visuals on the COVID-19 coronavirus. Data is from the European Centre for Disease Prevention and Control."
   ]
  },
  {
   "cell_type": "markdown",
   "metadata": {},
   "source": [
    "# Table of Contents\n",
    "- [Import Modules](#import)\n",
    "- [Setup](#setup)\n",
    "- [Scrape & Download](#scrape)\n",
    "- [Load Data](#load)"
   ]
  },
  {
   "cell_type": "markdown",
   "metadata": {},
   "source": [
    "# Import Modules <div id='import'/>"
   ]
  },
  {
   "cell_type": "code",
   "execution_count": 5,
   "metadata": {},
   "outputs": [],
   "source": [
    "import pandas as pd\n",
    "import numpy as np\n",
    "from multiprocessing import Pool\n",
    "import os\n",
    "import configparser\n",
    "import re"
   ]
  },
  {
   "cell_type": "markdown",
   "metadata": {},
   "source": [
    "# Setup <div id='setup'/>"
   ]
  },
  {
   "cell_type": "code",
   "execution_count": 2,
   "metadata": {},
   "outputs": [],
   "source": [
    "# Bind directory references\n",
    "REPO_DIR  = \"/repos/covid19\"\n",
    "DATA_DIR  = REPO_DIR + \"/data\"\n",
    "SOURCE_DIR = REPO_DIR + \"/source\"\n",
    "CONFIG_DIR = REPO_DIR + \"/config\"\n",
    "\n",
    "# import functions from helpers.py\n",
    "os.chdir(SOURCE_DIR)\n",
    "from helpers import dir_df, from_url, scrape_link\n",
    "os.chdir(REPO_DIR)\n",
    "\n",
    "# dataframe display setup\n",
    "pd.set_option('display.max_columns', None)\n",
    "\n",
    "# parse config file to get url of ECDC website (having a config file is overkill for this but it is what it is)\n",
    "config = configparser.ConfigParser()\n",
    "config.read(CONFIG_DIR+\"/covid19.cfg\")\n",
    "url = config['specs']['Webpage']"
   ]
  },
  {
   "cell_type": "markdown",
   "metadata": {},
   "source": [
    "# Scrape & Download <div id='scrape'/>"
   ]
  },
  {
   "cell_type": "code",
   "execution_count": 35,
   "metadata": {},
   "outputs": [],
   "source": [
    "# scrape download link from the ECDC website\n",
    "url_down = scrape_link(url, \".xls\")\n",
    "\n",
    "# confirm that only one link is coming through\n",
    "assert len(url_down)==1, \"Scrape returned links to more than one .xls file\"\n",
    "\n",
    "# links come through as a list so we are taking the first\n",
    "url_down = url_down[0]\n",
    "\n",
    "# parsing the data out of the file\n",
    "dt = re.findall(\"2020......\",url_down)[0].replace(\"-\",\"_\",2)\n",
    "\n",
    "# downloading the file and saving it down to the repo\n",
    "from_url(url=url_down,dest=DATA_DIR+\"/\"+dt+\"_covid19.xls\")"
   ]
  },
  {
   "cell_type": "markdown",
   "metadata": {},
   "source": [
    "# Load Data <div id='load'/>"
   ]
  },
  {
   "cell_type": "code",
   "execution_count": 58,
   "metadata": {},
   "outputs": [],
   "source": [
    "# compile dataframe of all data files available - usually 1 per day\n",
    "file_df = dir_df(DATA_DIR)\n",
    "file_df['FILE_DATE'] = file_df.FILE_NAME.str[0:10]\n",
    "file_df = file_df.sort_values(by='FILE_DATE', ascending=False).reset_index()"
   ]
  },
  {
   "cell_type": "code",
   "execution_count": 59,
   "metadata": {},
   "outputs": [],
   "source": [
    "# Read top file & rename columns (lord knows what Gaul1Nuts1 means)\n",
    "df = pd.read_excel(file_df['FILE_PATH'][0], \n",
    "                   names=[\"DATE_REP\",\"COUNTRY_NAME\",\n",
    "                          \"NEW_CASES\",\"NEW_DEATHS\",\n",
    "                          \"COUNTRY_ABR\",\"GAUL1NUTS1\",\"EU\"])\n",
    "# Data cleanup\n",
    "df['AS_OF_DATE'] = pd.to_datetime(file_df['FILE_DATE'][0],\n",
    "                                  format=\"%Y_%m_%d\")"
   ]
  },
  {
   "cell_type": "code",
   "execution_count": 60,
   "metadata": {},
   "outputs": [
    {
     "name": "stdout",
     "output_type": "stream",
     "text": [
      "<class 'pandas.core.frame.DataFrame'>\n",
      "RangeIndex: 5122 entries, 0 to 5121\n",
      "Data columns (total 8 columns):\n",
      " #   Column        Non-Null Count  Dtype         \n",
      "---  ------        --------------  -----         \n",
      " 0   DATE_REP      5122 non-null   datetime64[ns]\n",
      " 1   COUNTRY_NAME  5122 non-null   object        \n",
      " 2   NEW_CASES     5122 non-null   int64         \n",
      " 3   NEW_DEATHS    5115 non-null   float64       \n",
      " 4   COUNTRY_ABR   5121 non-null   object        \n",
      " 5   GAUL1NUTS1    500 non-null    object        \n",
      " 6   EU            5122 non-null   object        \n",
      " 7   AS_OF_DATE    5122 non-null   datetime64[ns]\n",
      "dtypes: datetime64[ns](2), float64(1), int64(1), object(4)\n",
      "memory usage: 320.2+ KB\n"
     ]
    }
   ],
   "source": [
    "# Let's view our dataframe info\n",
    "df.info()"
   ]
  },
  {
   "cell_type": "code",
   "execution_count": 61,
   "metadata": {
    "scrolled": true
   },
   "outputs": [
    {
     "data": {
      "text/html": [
       "<div>\n",
       "<style scoped>\n",
       "    .dataframe tbody tr th:only-of-type {\n",
       "        vertical-align: middle;\n",
       "    }\n",
       "\n",
       "    .dataframe tbody tr th {\n",
       "        vertical-align: top;\n",
       "    }\n",
       "\n",
       "    .dataframe thead th {\n",
       "        text-align: right;\n",
       "    }\n",
       "</style>\n",
       "<table border=\"1\" class=\"dataframe\">\n",
       "  <thead>\n",
       "    <tr style=\"text-align: right;\">\n",
       "      <th></th>\n",
       "      <th>DATE_REP</th>\n",
       "      <th>COUNTRY_NAME</th>\n",
       "      <th>NEW_CASES</th>\n",
       "      <th>NEW_DEATHS</th>\n",
       "      <th>COUNTRY_ABR</th>\n",
       "      <th>GAUL1NUTS1</th>\n",
       "      <th>EU</th>\n",
       "      <th>AS_OF_DATE</th>\n",
       "    </tr>\n",
       "  </thead>\n",
       "  <tbody>\n",
       "    <tr>\n",
       "      <th>0</th>\n",
       "      <td>2020-03-15</td>\n",
       "      <td>Afghanistan</td>\n",
       "      <td>3</td>\n",
       "      <td>0.0</td>\n",
       "      <td>AF</td>\n",
       "      <td>NaN</td>\n",
       "      <td>Non-EU/EEA</td>\n",
       "      <td>2020-03-15</td>\n",
       "    </tr>\n",
       "    <tr>\n",
       "      <th>1</th>\n",
       "      <td>2020-03-11</td>\n",
       "      <td>Afghanistan</td>\n",
       "      <td>3</td>\n",
       "      <td>0.0</td>\n",
       "      <td>AF</td>\n",
       "      <td>NaN</td>\n",
       "      <td>Non-EU/EEA</td>\n",
       "      <td>2020-03-15</td>\n",
       "    </tr>\n",
       "    <tr>\n",
       "      <th>2</th>\n",
       "      <td>2020-03-08</td>\n",
       "      <td>Afghanistan</td>\n",
       "      <td>3</td>\n",
       "      <td>0.0</td>\n",
       "      <td>AF</td>\n",
       "      <td>NaN</td>\n",
       "      <td>Non-EU/EEA</td>\n",
       "      <td>2020-03-15</td>\n",
       "    </tr>\n",
       "    <tr>\n",
       "      <th>3</th>\n",
       "      <td>2020-03-02</td>\n",
       "      <td>Afghanistan</td>\n",
       "      <td>0</td>\n",
       "      <td>0.0</td>\n",
       "      <td>AF</td>\n",
       "      <td>NaN</td>\n",
       "      <td>Non-EU/EEA</td>\n",
       "      <td>2020-03-15</td>\n",
       "    </tr>\n",
       "    <tr>\n",
       "      <th>4</th>\n",
       "      <td>2020-03-01</td>\n",
       "      <td>Afghanistan</td>\n",
       "      <td>0</td>\n",
       "      <td>0.0</td>\n",
       "      <td>AF</td>\n",
       "      <td>NaN</td>\n",
       "      <td>Non-EU/EEA</td>\n",
       "      <td>2020-03-15</td>\n",
       "    </tr>\n",
       "  </tbody>\n",
       "</table>\n",
       "</div>"
      ],
      "text/plain": [
       "    DATE_REP COUNTRY_NAME  NEW_CASES  NEW_DEATHS COUNTRY_ABR GAUL1NUTS1  \\\n",
       "0 2020-03-15  Afghanistan          3         0.0          AF        NaN   \n",
       "1 2020-03-11  Afghanistan          3         0.0          AF        NaN   \n",
       "2 2020-03-08  Afghanistan          3         0.0          AF        NaN   \n",
       "3 2020-03-02  Afghanistan          0         0.0          AF        NaN   \n",
       "4 2020-03-01  Afghanistan          0         0.0          AF        NaN   \n",
       "\n",
       "           EU AS_OF_DATE  \n",
       "0  Non-EU/EEA 2020-03-15  \n",
       "1  Non-EU/EEA 2020-03-15  \n",
       "2  Non-EU/EEA 2020-03-15  \n",
       "3  Non-EU/EEA 2020-03-15  \n",
       "4  Non-EU/EEA 2020-03-15  "
      ]
     },
     "execution_count": 61,
     "metadata": {},
     "output_type": "execute_result"
    }
   ],
   "source": [
    "# Let's check out the top 5 rows of our dataframe\n",
    "df.head()"
   ]
  }
 ],
 "metadata": {
  "celltoolbar": "Raw Cell Format",
  "kernelspec": {
   "display_name": "Python 3",
   "language": "python",
   "name": "python3"
  },
  "language_info": {
   "codemirror_mode": {
    "name": "ipython",
    "version": 3
   },
   "file_extension": ".py",
   "mimetype": "text/x-python",
   "name": "python",
   "nbconvert_exporter": "python",
   "pygments_lexer": "ipython3",
   "version": "3.7.3"
  }
 },
 "nbformat": 4,
 "nbformat_minor": 4
}
