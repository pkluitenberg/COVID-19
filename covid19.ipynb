{
 "cells": [
  {
   "cell_type": "markdown",
   "metadata": {},
   "source": [
    "# COVID-19 Visualizations"
   ]
  },
  {
   "cell_type": "markdown",
   "metadata": {},
   "source": [
    "This notebook provides some basic visuals on the COVID-19 coronavirus. Data is from the European Centre for Disease Prevention and Control."
   ]
  },
  {
   "cell_type": "markdown",
   "metadata": {},
   "source": [
    "# Table of Contents\n",
    "- [Import Modules](#import)\n",
    "- [Setup](#setup)\n",
    "- [Scrape & Download](#scrape)\n",
    "- [Load Data](#load)\n",
    "- [Visualizations](#viz)"
   ]
  },
  {
   "cell_type": "markdown",
   "metadata": {},
   "source": [
    "# Import Modules <div id='import'/>"
   ]
  },
  {
   "cell_type": "code",
   "execution_count": 148,
   "metadata": {},
   "outputs": [],
   "source": [
    "import pandas as pd\n",
    "import numpy as np\n",
    "from multiprocessing import Pool\n",
    "import os\n",
    "import configparser\n",
    "import re\n",
    "import matplotlib.pyplot as plt\n",
    "import matplotlib.style as mplstyle\n",
    "import matplotlib.dates as dates"
   ]
  },
  {
   "cell_type": "markdown",
   "metadata": {},
   "source": [
    "# Setup <div id='setup'/>"
   ]
  },
  {
   "cell_type": "code",
   "execution_count": 125,
   "metadata": {},
   "outputs": [],
   "source": [
    "# Bind directory references\n",
    "REPO_DIR  = \"/repos/covid19\"\n",
    "DATA_DIR  = REPO_DIR + \"/data\"\n",
    "SOURCE_DIR = REPO_DIR + \"/source\"\n",
    "CONFIG_DIR = REPO_DIR + \"/config\"\n",
    "\n",
    "# import functions from helpers.py\n",
    "os.chdir(SOURCE_DIR)\n",
    "from helpers import dir_df, from_url, scrape_link\n",
    "os.chdir(REPO_DIR)\n",
    "\n",
    "# dataframe display setup\n",
    "pd.set_option('display.max_columns', None)\n",
    "%matplotlib inline\n",
    "mplstyle.use('fivethirtyeight')\n",
    "\n",
    "# parse config file to get url of ECDC website (having a config file is overkill for this but it is what it is)\n",
    "config = configparser.ConfigParser()\n",
    "config.read(CONFIG_DIR+\"/covid19.cfg\")\n",
    "url = config['specs']['Webpage']"
   ]
  },
  {
   "cell_type": "markdown",
   "metadata": {},
   "source": [
    "# Scrape & Download <div id='scrape'/>"
   ]
  },
  {
   "cell_type": "code",
   "execution_count": 35,
   "metadata": {},
   "outputs": [],
   "source": [
    "# scrape download link from the ECDC website\n",
    "url_down = scrape_link(url, \".xls\")\n",
    "\n",
    "# confirm that only one link is coming through\n",
    "assert len(url_down)==1, \"Scrape returned links to more than one .xls file\"\n",
    "\n",
    "# links come through as a list so we are taking the first\n",
    "url_down = url_down[0]\n",
    "\n",
    "# parsing the data out of the file\n",
    "dt = re.findall(\"2020......\",url_down)[0].replace(\"-\",\"_\",2)\n",
    "\n",
    "# downloading the file and saving it down to the repo\n",
    "from_url(url=url_down,dest=DATA_DIR+\"/\"+dt+\"_covid19.xls\")"
   ]
  },
  {
   "cell_type": "markdown",
   "metadata": {},
   "source": [
    "# Load Data <div id='load'/>"
   ]
  },
  {
   "cell_type": "code",
   "execution_count": 77,
   "metadata": {},
   "outputs": [
    {
     "data": {
      "text/html": [
       "<div>\n",
       "<style scoped>\n",
       "    .dataframe tbody tr th:only-of-type {\n",
       "        vertical-align: middle;\n",
       "    }\n",
       "\n",
       "    .dataframe tbody tr th {\n",
       "        vertical-align: top;\n",
       "    }\n",
       "\n",
       "    .dataframe thead th {\n",
       "        text-align: right;\n",
       "    }\n",
       "</style>\n",
       "<table border=\"1\" class=\"dataframe\">\n",
       "  <thead>\n",
       "    <tr style=\"text-align: right;\">\n",
       "      <th></th>\n",
       "      <th>FILE_NAME</th>\n",
       "      <th>FILE_PATH</th>\n",
       "      <th>FILE_SIZE</th>\n",
       "      <th>FILE_DATE</th>\n",
       "    </tr>\n",
       "  </thead>\n",
       "  <tbody>\n",
       "    <tr>\n",
       "      <th>0</th>\n",
       "      <td>2020_03_15_covid19.xls</td>\n",
       "      <td>/repos/covid19/data/2020_03_15_covid19.xls</td>\n",
       "      <td>602624</td>\n",
       "      <td>2020_03_15</td>\n",
       "    </tr>\n",
       "    <tr>\n",
       "      <th>1</th>\n",
       "      <td>2020_03_14_covid19.xls</td>\n",
       "      <td>/repos/covid19/data/2020_03_14_covid19.xls</td>\n",
       "      <td>586752</td>\n",
       "      <td>2020_03_14</td>\n",
       "    </tr>\n",
       "    <tr>\n",
       "      <th>2</th>\n",
       "      <td>2020_03_13_covid19.xls</td>\n",
       "      <td>/repos/covid19/data/2020_03_13_covid19.xls</td>\n",
       "      <td>577536</td>\n",
       "      <td>2020_03_13</td>\n",
       "    </tr>\n",
       "    <tr>\n",
       "      <th>3</th>\n",
       "      <td>2020_03_12_covid19.xls</td>\n",
       "      <td>/repos/covid19/data/2020_03_12_covid19.xls</td>\n",
       "      <td>567808</td>\n",
       "      <td>2020_03_12</td>\n",
       "    </tr>\n",
       "  </tbody>\n",
       "</table>\n",
       "</div>"
      ],
      "text/plain": [
       "                FILE_NAME                                   FILE_PATH  \\\n",
       "0  2020_03_15_covid19.xls  /repos/covid19/data/2020_03_15_covid19.xls   \n",
       "1  2020_03_14_covid19.xls  /repos/covid19/data/2020_03_14_covid19.xls   \n",
       "2  2020_03_13_covid19.xls  /repos/covid19/data/2020_03_13_covid19.xls   \n",
       "3  2020_03_12_covid19.xls  /repos/covid19/data/2020_03_12_covid19.xls   \n",
       "\n",
       "   FILE_SIZE   FILE_DATE  \n",
       "0     602624  2020_03_15  \n",
       "1     586752  2020_03_14  \n",
       "2     577536  2020_03_13  \n",
       "3     567808  2020_03_12  "
      ]
     },
     "execution_count": 77,
     "metadata": {},
     "output_type": "execute_result"
    }
   ],
   "source": [
    "# compile dataframe of all data files available - usually 1 per day\n",
    "file_df = dir_df(DATA_DIR)\n",
    "file_df['FILE_DATE'] = file_df.FILE_NAME.str[0:10]\n",
    "file_df = file_df.sort_values(by='FILE_DATE', ascending=False).reset_index(drop = True)\n",
    "file_df"
   ]
  },
  {
   "cell_type": "code",
   "execution_count": 78,
   "metadata": {},
   "outputs": [],
   "source": [
    "# Read top file & rename columns (lord knows what Gaul1Nuts1 means)\n",
    "df = pd.read_excel(file_df['FILE_PATH'][0], \n",
    "                   names=[\"DATE_REP\",\"COUNTRY_NAME\",\n",
    "                          \"NEW_CASES\",\"NEW_DEATHS\",\n",
    "                          \"COUNTRY_ABR\",\"GAUL1NUTS1\",\"EU\"])\n",
    "# Data cleanup\n",
    "df['AS_OF_DATE'] = pd.to_datetime(file_df['FILE_DATE'][0],\n",
    "                                  format=\"%Y_%m_%d\")"
   ]
  },
  {
   "cell_type": "code",
   "execution_count": 79,
   "metadata": {},
   "outputs": [
    {
     "name": "stdout",
     "output_type": "stream",
     "text": [
      "<class 'pandas.core.frame.DataFrame'>\n",
      "RangeIndex: 5122 entries, 0 to 5121\n",
      "Data columns (total 8 columns):\n",
      " #   Column        Non-Null Count  Dtype         \n",
      "---  ------        --------------  -----         \n",
      " 0   DATE_REP      5122 non-null   datetime64[ns]\n",
      " 1   COUNTRY_NAME  5122 non-null   object        \n",
      " 2   NEW_CASES     5122 non-null   int64         \n",
      " 3   NEW_DEATHS    5115 non-null   float64       \n",
      " 4   COUNTRY_ABR   5121 non-null   object        \n",
      " 5   GAUL1NUTS1    500 non-null    object        \n",
      " 6   EU            5122 non-null   object        \n",
      " 7   AS_OF_DATE    5122 non-null   datetime64[ns]\n",
      "dtypes: datetime64[ns](2), float64(1), int64(1), object(4)\n",
      "memory usage: 320.2+ KB\n"
     ]
    }
   ],
   "source": [
    "# Let's view our dataframe info\n",
    "df.info()"
   ]
  },
  {
   "cell_type": "code",
   "execution_count": 81,
   "metadata": {},
   "outputs": [
    {
     "data": {
      "text/html": [
       "<div>\n",
       "<style scoped>\n",
       "    .dataframe tbody tr th:only-of-type {\n",
       "        vertical-align: middle;\n",
       "    }\n",
       "\n",
       "    .dataframe tbody tr th {\n",
       "        vertical-align: top;\n",
       "    }\n",
       "\n",
       "    .dataframe thead th {\n",
       "        text-align: right;\n",
       "    }\n",
       "</style>\n",
       "<table border=\"1\" class=\"dataframe\">\n",
       "  <thead>\n",
       "    <tr style=\"text-align: right;\">\n",
       "      <th></th>\n",
       "      <th>DATE_REP</th>\n",
       "      <th>COUNTRY_NAME</th>\n",
       "      <th>NEW_CASES</th>\n",
       "      <th>NEW_DEATHS</th>\n",
       "      <th>COUNTRY_ABR</th>\n",
       "      <th>GAUL1NUTS1</th>\n",
       "      <th>EU</th>\n",
       "      <th>AS_OF_DATE</th>\n",
       "    </tr>\n",
       "  </thead>\n",
       "  <tbody>\n",
       "    <tr>\n",
       "      <th>0</th>\n",
       "      <td>2020-03-15</td>\n",
       "      <td>Afghanistan</td>\n",
       "      <td>3</td>\n",
       "      <td>0.0</td>\n",
       "      <td>AF</td>\n",
       "      <td>NaN</td>\n",
       "      <td>Non-EU/EEA</td>\n",
       "      <td>2020-03-15</td>\n",
       "    </tr>\n",
       "    <tr>\n",
       "      <th>1</th>\n",
       "      <td>2020-03-11</td>\n",
       "      <td>Afghanistan</td>\n",
       "      <td>3</td>\n",
       "      <td>0.0</td>\n",
       "      <td>AF</td>\n",
       "      <td>NaN</td>\n",
       "      <td>Non-EU/EEA</td>\n",
       "      <td>2020-03-15</td>\n",
       "    </tr>\n",
       "    <tr>\n",
       "      <th>2</th>\n",
       "      <td>2020-03-08</td>\n",
       "      <td>Afghanistan</td>\n",
       "      <td>3</td>\n",
       "      <td>0.0</td>\n",
       "      <td>AF</td>\n",
       "      <td>NaN</td>\n",
       "      <td>Non-EU/EEA</td>\n",
       "      <td>2020-03-15</td>\n",
       "    </tr>\n",
       "    <tr>\n",
       "      <th>3</th>\n",
       "      <td>2020-03-02</td>\n",
       "      <td>Afghanistan</td>\n",
       "      <td>0</td>\n",
       "      <td>0.0</td>\n",
       "      <td>AF</td>\n",
       "      <td>NaN</td>\n",
       "      <td>Non-EU/EEA</td>\n",
       "      <td>2020-03-15</td>\n",
       "    </tr>\n",
       "    <tr>\n",
       "      <th>4</th>\n",
       "      <td>2020-03-01</td>\n",
       "      <td>Afghanistan</td>\n",
       "      <td>0</td>\n",
       "      <td>0.0</td>\n",
       "      <td>AF</td>\n",
       "      <td>NaN</td>\n",
       "      <td>Non-EU/EEA</td>\n",
       "      <td>2020-03-15</td>\n",
       "    </tr>\n",
       "  </tbody>\n",
       "</table>\n",
       "</div>"
      ],
      "text/plain": [
       "    DATE_REP COUNTRY_NAME  NEW_CASES  NEW_DEATHS COUNTRY_ABR GAUL1NUTS1  \\\n",
       "0 2020-03-15  Afghanistan          3         0.0          AF        NaN   \n",
       "1 2020-03-11  Afghanistan          3         0.0          AF        NaN   \n",
       "2 2020-03-08  Afghanistan          3         0.0          AF        NaN   \n",
       "3 2020-03-02  Afghanistan          0         0.0          AF        NaN   \n",
       "4 2020-03-01  Afghanistan          0         0.0          AF        NaN   \n",
       "\n",
       "           EU AS_OF_DATE  \n",
       "0  Non-EU/EEA 2020-03-15  \n",
       "1  Non-EU/EEA 2020-03-15  \n",
       "2  Non-EU/EEA 2020-03-15  \n",
       "3  Non-EU/EEA 2020-03-15  \n",
       "4  Non-EU/EEA 2020-03-15  "
      ]
     },
     "execution_count": 81,
     "metadata": {},
     "output_type": "execute_result"
    }
   ],
   "source": [
    "### Let's check out the top 5 rows of our dataframe\n",
    "df.head()"
   ]
  },
  {
   "cell_type": "markdown",
   "metadata": {},
   "source": [
    "# Visualizations <div id='viz'/>"
   ]
  },
  {
   "cell_type": "markdown",
   "metadata": {},
   "source": [
    "## 1. Prep Data"
   ]
  },
  {
   "cell_type": "code",
   "execution_count": 128,
   "metadata": {},
   "outputs": [],
   "source": [
    "# data for new cases by day worldwide\n",
    "wc = df.groupby(['DATE_REP'])[['NEW_CASES']].sum().reset_index()"
   ]
  },
  {
   "cell_type": "markdown",
   "metadata": {},
   "source": [
    "## 2. Plot Data"
   ]
  },
  {
   "cell_type": "code",
   "execution_count": 157,
   "metadata": {},
   "outputs": [
    {
     "data": {
      "image/png": "[encoded data removed]",
      "text/plain": [
       "<Figure size 2160x720 with 1 Axes>"
      ]
     },
     "metadata": {},
     "output_type": "display_data"
    }
   ],
   "source": [
    "# plotting new cases by day worldwide\n",
    "plt.rcParams['figure.figsize'] = [30, 10]\n",
    "fig, ax = plt.subplots()\n",
    "ax.plot(wc['DATE_REP'], wc['NEW_CASES'])\n",
    "ax.set(xlabel='Date', ylabel='Cases',\n",
    "       title='New COVID-19 Cases Worldwide')\n",
    "ax.grid(color='darkgrey')"
   ]
  }
 ],
 "metadata": {
  "celltoolbar": "Raw Cell Format",
  "kernelspec": {
   "display_name": "Python 3",
   "language": "python",
   "name": "python3"
  },
  "language_info": {
   "codemirror_mode": {
    "name": "ipython",
    "version": 3
   },
   "file_extension": ".py",
   "mimetype": "text/x-python",
   "name": "python",
   "nbconvert_exporter": "python",
   "pygments_lexer": "ipython3",
   "version": "3.7.3"
  }
 },
 "nbformat": 4,
 "nbformat_minor": 4
}
