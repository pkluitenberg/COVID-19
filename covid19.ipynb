{
 "cells": [
  {
   "cell_type": "markdown",
   "metadata": {},
   "source": [
    "# COVID-19 Visualizations"
   ]
  },
  {
   "cell_type": "markdown",
   "metadata": {},
   "source": [
    "This notebook provides some basic visuals on the COVID-19 coronavirus. Data is from the European Centre for Disease Prevention and Control."
   ]
  },
  {
   "cell_type": "markdown",
   "metadata": {},
   "source": [
    "# Table of Contents\n",
    "- [Import Modules](#import)\n",
    "- [Setup](#setup)\n",
    "- [Load Data](#load)"
   ]
  },
  {
   "cell_type": "markdown",
   "metadata": {},
   "source": [
    "# Import Modules <div id='import'/>"
   ]
  },
  {
   "cell_type": "code",
   "execution_count": 215,
   "metadata": {},
   "outputs": [],
   "source": [
    "import pandas as pd\n",
    "import numpy as np\n",
    "from multiprocessing import Pool\n",
    "import os\n",
    "import configparser\n",
    "from helpers import dir_df, from_url, scrape_link"
   ]
  },
  {
   "cell_type": "markdown",
   "metadata": {},
   "source": [
    "## Setup <div id='setup'/>"
   ]
  },
  {
   "cell_type": "code",
   "execution_count": 216,
   "metadata": {},
   "outputs": [],
   "source": [
    "# Bind directory references\n",
    "REPO_DIR  = \"/repos/covid19\"\n",
    "DATA_DIR  = REPO_DIR + \"/data\"\n",
    "SOURCE_DIR = REPO_DIR + \"/source\"\n",
    "CONFIG_DIR = REPO_DIR + \"/config\"\n",
    "\n",
    "# dataframe display setup\n",
    "pd.set_option('display.max_columns', None)\n",
    "\n",
    "# parse config file to get url (having a config file is overkill for this but it is what it is)\n",
    "config = configparser.ConfigParser()\n",
    "config.read(CONFIG_DIR+\"/covid19.cfg\")\n",
    "url = config['specs']['Webpage']"
   ]
  },
  {
   "cell_type": "markdown",
   "metadata": {},
   "source": [
    "# Load Data <div id='load'/>"
   ]
  },
  {
   "cell_type": "code",
   "execution_count": 155,
   "metadata": {},
   "outputs": [],
   "source": [
    "# Build dataframe of all data files available - usually 1 per day\n",
    "\n",
    "file_df = dir_df(DATA_DIR)\n",
    "file_df['FILE_DATE'] = file_df.FILE_NAME.str[0:10]\n",
    "file_df.sort_values(by='FILE_DATE', ascending=False)\n",
    "\n",
    "# Read top file & rename columns (lord knows what Gaul1Nuts1 means\n",
    "df = pd.read_excel(file_df['FILE_PATH'][0], \n",
    "                   names=[\"DATE_REP\",\"COUNTRY_NAME\",\n",
    "                          \"NEW_CASES\",\"NEW_DEATHS\",\n",
    "                          \"COUNTRY_ABR\",\"GAUL1NUTS1\",\"EU\"])\n",
    "# Data cleanup\n",
    "df['AS_OF_DATE'] = pd.to_datetime(file_df['FILE_DATE'][0],\n",
    "                                  format=\"%Y_%m_%d\")"
   ]
  },
  {
   "cell_type": "code",
   "execution_count": 70,
   "metadata": {},
   "outputs": [
    {
     "data": {
      "text/html": [
       "<div>\n",
       "<style scoped>\n",
       "    .dataframe tbody tr th:only-of-type {\n",
       "        vertical-align: middle;\n",
       "    }\n",
       "\n",
       "    .dataframe tbody tr th {\n",
       "        vertical-align: top;\n",
       "    }\n",
       "\n",
       "    .dataframe thead th {\n",
       "        text-align: right;\n",
       "    }\n",
       "</style>\n",
       "<table border=\"1\" class=\"dataframe\">\n",
       "  <thead>\n",
       "    <tr style=\"text-align: right;\">\n",
       "      <th></th>\n",
       "      <th>FILE_NAME</th>\n",
       "      <th>FILE_PATH</th>\n",
       "      <th>FILE_SIZE</th>\n",
       "      <th>FILE_DATE</th>\n",
       "    </tr>\n",
       "  </thead>\n",
       "  <tbody>\n",
       "    <tr>\n",
       "      <th>0</th>\n",
       "      <td>2020_03_13_covid19.xls</td>\n",
       "      <td>/repos/covid19/data/2020_03_13_covid19.xls</td>\n",
       "      <td>577536</td>\n",
       "      <td>2020_03_13</td>\n",
       "    </tr>\n",
       "    <tr>\n",
       "      <th>1</th>\n",
       "      <td>2020_03_12_covid19.xls</td>\n",
       "      <td>/repos/covid19/data/2020_03_12_covid19.xls</td>\n",
       "      <td>567808</td>\n",
       "      <td>2020_03_12</td>\n",
       "    </tr>\n",
       "  </tbody>\n",
       "</table>\n",
       "</div>"
      ],
      "text/plain": [
       "                FILE_NAME                                   FILE_PATH  \\\n",
       "0  2020_03_13_covid19.xls  /repos/covid19/data/2020_03_13_covid19.xls   \n",
       "1  2020_03_12_covid19.xls  /repos/covid19/data/2020_03_12_covid19.xls   \n",
       "\n",
       "   FILE_SIZE   FILE_DATE  \n",
       "0     577536  2020_03_13  \n",
       "1     567808  2020_03_12  "
      ]
     },
     "execution_count": 70,
     "metadata": {},
     "output_type": "execute_result"
    }
   ],
   "source": [
    "file_df"
   ]
  },
  {
   "cell_type": "code",
   "execution_count": 69,
   "metadata": {},
   "outputs": [
    {
     "name": "stdout",
     "output_type": "stream",
     "text": [
      "<class 'pandas.core.frame.DataFrame'>\n",
      "RangeIndex: 4905 entries, 0 to 4904\n",
      "Data columns (total 8 columns):\n",
      " #   Column        Non-Null Count  Dtype         \n",
      "---  ------        --------------  -----         \n",
      " 0   DATE_REP      4905 non-null   datetime64[ns]\n",
      " 1   COUNTRY_NAME  4905 non-null   object        \n",
      " 2   NEW_CASES     4905 non-null   int64         \n",
      " 3   NEW_DEATHS    4905 non-null   int64         \n",
      " 4   COUNTRY_ABR   4905 non-null   object        \n",
      " 5   GAUL1NUTS1    485 non-null    object        \n",
      " 6   EU            4905 non-null   object        \n",
      " 7   AS_OF_DATE    4905 non-null   datetime64[ns]\n",
      "dtypes: datetime64[ns](2), int64(2), object(4)\n",
      "memory usage: 306.7+ KB\n"
     ]
    }
   ],
   "source": [
    "# Let's view our dataframe info\n",
    "df.info()"
   ]
  },
  {
   "cell_type": "code",
   "execution_count": 27,
   "metadata": {
    "scrolled": true
   },
   "outputs": [
    {
     "data": {
      "text/html": [
       "<div>\n",
       "<style scoped>\n",
       "    .dataframe tbody tr th:only-of-type {\n",
       "        vertical-align: middle;\n",
       "    }\n",
       "\n",
       "    .dataframe tbody tr th {\n",
       "        vertical-align: top;\n",
       "    }\n",
       "\n",
       "    .dataframe thead th {\n",
       "        text-align: right;\n",
       "    }\n",
       "</style>\n",
       "<table border=\"1\" class=\"dataframe\">\n",
       "  <thead>\n",
       "    <tr style=\"text-align: right;\">\n",
       "      <th></th>\n",
       "      <th>DATE_REP</th>\n",
       "      <th>COUNTRY_NAME</th>\n",
       "      <th>NEW_CASES</th>\n",
       "      <th>NEW_DEATHS</th>\n",
       "      <th>COUNTRY_ABR</th>\n",
       "      <th>GAUL1NUTS1</th>\n",
       "      <th>EU</th>\n",
       "      <th>AS_OF_DATE</th>\n",
       "    </tr>\n",
       "  </thead>\n",
       "  <tbody>\n",
       "    <tr>\n",
       "      <th>0</th>\n",
       "      <td>2020-03-11</td>\n",
       "      <td>Afghanistan</td>\n",
       "      <td>3</td>\n",
       "      <td>0</td>\n",
       "      <td>AF</td>\n",
       "      <td>NaN</td>\n",
       "      <td>Non-EU/EEA</td>\n",
       "      <td>2020-03-13</td>\n",
       "    </tr>\n",
       "    <tr>\n",
       "      <th>1</th>\n",
       "      <td>2020-03-08</td>\n",
       "      <td>Afghanistan</td>\n",
       "      <td>3</td>\n",
       "      <td>0</td>\n",
       "      <td>AF</td>\n",
       "      <td>NaN</td>\n",
       "      <td>Non-EU/EEA</td>\n",
       "      <td>2020-03-13</td>\n",
       "    </tr>\n",
       "    <tr>\n",
       "      <th>2</th>\n",
       "      <td>2020-03-02</td>\n",
       "      <td>Afghanistan</td>\n",
       "      <td>0</td>\n",
       "      <td>0</td>\n",
       "      <td>AF</td>\n",
       "      <td>NaN</td>\n",
       "      <td>Non-EU/EEA</td>\n",
       "      <td>2020-03-13</td>\n",
       "    </tr>\n",
       "    <tr>\n",
       "      <th>3</th>\n",
       "      <td>2020-03-01</td>\n",
       "      <td>Afghanistan</td>\n",
       "      <td>0</td>\n",
       "      <td>0</td>\n",
       "      <td>AF</td>\n",
       "      <td>NaN</td>\n",
       "      <td>Non-EU/EEA</td>\n",
       "      <td>2020-03-13</td>\n",
       "    </tr>\n",
       "    <tr>\n",
       "      <th>4</th>\n",
       "      <td>2020-02-29</td>\n",
       "      <td>Afghanistan</td>\n",
       "      <td>0</td>\n",
       "      <td>0</td>\n",
       "      <td>AF</td>\n",
       "      <td>NaN</td>\n",
       "      <td>Non-EU/EEA</td>\n",
       "      <td>2020-03-13</td>\n",
       "    </tr>\n",
       "  </tbody>\n",
       "</table>\n",
       "</div>"
      ],
      "text/plain": [
       "    DATE_REP COUNTRY_NAME  NEW_CASES  NEW_DEATHS COUNTRY_ABR GAUL1NUTS1  \\\n",
       "0 2020-03-11  Afghanistan          3           0          AF        NaN   \n",
       "1 2020-03-08  Afghanistan          3           0          AF        NaN   \n",
       "2 2020-03-02  Afghanistan          0           0          AF        NaN   \n",
       "3 2020-03-01  Afghanistan          0           0          AF        NaN   \n",
       "4 2020-02-29  Afghanistan          0           0          AF        NaN   \n",
       "\n",
       "           EU AS_OF_DATE  \n",
       "0  Non-EU/EEA 2020-03-13  \n",
       "1  Non-EU/EEA 2020-03-13  \n",
       "2  Non-EU/EEA 2020-03-13  \n",
       "3  Non-EU/EEA 2020-03-13  \n",
       "4  Non-EU/EEA 2020-03-13  "
      ]
     },
     "execution_count": 27,
     "metadata": {},
     "output_type": "execute_result"
    }
   ],
   "source": [
    "# Let's check out the top 5 rows of our dataframe\n",
    "df.head()"
   ]
  },
  {
   "cell_type": "code",
   "execution_count": 87,
   "metadata": {},
   "outputs": [
    {
     "data": {
      "text/plain": [
       "True"
      ]
     },
     "execution_count": 87,
     "metadata": {},
     "output_type": "execute_result"
    }
   ],
   "source": [
    "test = DATA_DIR+\"/\"+\"2020_03_13_covid19.xls\"\n",
    "os.path.dirname(test)\n",
    "os.path.exists(test)"
   ]
  },
  {
   "cell_type": "code",
   "execution_count": 106,
   "metadata": {},
   "outputs": [
    {
     "data": {
      "text/plain": [
       "'File could not be downloaded. Check URL'"
      ]
     },
     "execution_count": 106,
     "metadata": {},
     "output_type": "execute_result"
    }
   ],
   "source": [
    "test_url = \"https://www.ecdc.europa.eu/sites/default/files/documents/COVID-19-geographic-disbtribution-worldwide-ssssss2020-03-14_1.xls\"\n",
    "file = DATA_DIR + \"/test/test.xls\"\n",
    "from_url(url = test_url, dest = file, overwrite = True,make_dir = True)"
   ]
  },
  {
   "cell_type": "code",
   "execution_count": 161,
   "metadata": {},
   "outputs": [
    {
     "data": {
      "text/plain": [
       "'/repos/covid19'"
      ]
     },
     "execution_count": 161,
     "metadata": {},
     "output_type": "execute_result"
    }
   ],
   "source": [
    "os.getcwd()"
   ]
  },
  {
   "cell_type": "code",
   "execution_count": 195,
   "metadata": {},
   "outputs": [],
   "source": [
    "config = configparser.ConfigParser()\n",
    "config.read(CONFIG_DIR+\"/covid19.cfg\")\n",
    "url = config['specs']['Webpage']"
   ]
  }
 ],
 "metadata": {
  "celltoolbar": "Raw Cell Format",
  "kernelspec": {
   "display_name": "Python 3",
   "language": "python",
   "name": "python3"
  },
  "language_info": {
   "codemirror_mode": {
    "name": "ipython",
    "version": 3
   },
   "file_extension": ".py",
   "mimetype": "text/x-python",
   "name": "python",
   "nbconvert_exporter": "python",
   "pygments_lexer": "ipython3",
   "version": "3.7.3"
  }
 },
 "nbformat": 4,
 "nbformat_minor": 4
}
